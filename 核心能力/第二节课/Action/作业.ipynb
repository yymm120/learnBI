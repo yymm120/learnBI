{
  "nbformat": 4,
  "nbformat_minor": 0,
  "metadata": {
    "colab": {
      "name": "Untitled1.ipynb",
      "provenance": []
    },
    "kernelspec": {
      "name": "python3",
      "display_name": "Python 3"
    },
    "accelerator": "GPU"
  },
  "cells": [
    {
      "cell_type": "code",
      "metadata": {
        "id": "CbO2Qov9sisE",
        "colab_type": "code",
        "colab": {}
      },
      "source": [
        "import pandas as pd\n",
        "import time\n",
        "from efficient_apriori import apriori\n",
        "\n",
        "data = pd.read_csv('./market_Aprori_data/Market_Basket_Optimisation.csv', header=None)\n",
        "data = data.fillna(0)\n",
        "\n",
        "start = time.time()\n",
        "l = []\n",
        "s = set()\n",
        "for i in range(len(data)):\n",
        "    temp_set = set()\n",
        "    for j in range(data.shape[1]):\n",
        "\n",
        "        if data.iloc[i][j] !=0:\n",
        "            temp_set.add(data.iloc[i][j])\n",
        "    l.append(temp_set)\n"
      ],
      "execution_count": null,
      "outputs": []
    },
    {
      "cell_type": "code",
      "metadata": {
        "id": "AQT7aJ_xuAby",
        "colab_type": "code",
        "colab": {
          "base_uri": "https://localhost:8080/",
          "height": 71
        },
        "outputId": "9593525c-215c-4b52-dbab-02575f560332"
      },
      "source": [
        "itemsets, rules = apriori(l, min_support=0.01, min_confidence=0.5)\n",
        "print('频繁项集：', itemsets)\n",
        "print('关联规则：', rules)\n",
        "# # end = time.time()\n",
        "# print(\"用时：\", end - start)\n",
        "# l "
      ],
      "execution_count": null,
      "outputs": [
        {
          "output_type": "stream",
          "text": [
            "频繁项集： {1: {('honey',): 356, ('olive oil',): 494, ('avocado',): 250, ('tomato juice',): 228, ('almonds',): 153, ('low fat yogurt',): 574, ('vegetables mix',): 193, ('salmon',): 319, ('frozen smoothie',): 475, ('cottage cheese',): 239, ('energy drink',): 200, ('green tea',): 991, ('mineral water',): 1788, ('shrimp',): 536, ('yams',): 86, ('eggs',): 1348, ('burgers',): 654, ('meatballs',): 157, ('turkey',): 469, ('energy bar',): 203, ('milk',): 972, ('whole wheat rice',): 439, ('french fries',): 1282, ('whole wheat pasta',): 221, ('soup',): 379, ('light cream',): 117, ('spaghetti',): 1306, ('frozen vegetables',): 715, ('cookies',): 603, ('cooking oil',): 383, ('champagne',): 351, ('chicken',): 450, ('chocolate',): 1229, ('oil',): 173, ('black tea',): 107, ('fresh tuna',): 167, ('extra dark chocolate',): 90, ('tomatoes',): 513, ('protein bar',): 139, ('red wine',): 211, ('pepper',): 199, ('pasta',): 118, ('rice',): 141, ('pancakes',): 713, ('body spray',): 86, ('ham',): 199, ('white wine',): 124, ('grated cheese',): 393, ('fresh bread',): 323, ('parmesan cheese',): 149, ('ground beef',): 737, ('escalope',): 595, ('tomato sauce',): 106, ('magazines',): 82, ('herb & pepper',): 371, ('strawberries',): 160, ('cake',): 608, ('hot dogs',): 243, ('brownies',): 253, ('cereals',): 193, ('muffins',): 181, ('light mayo',): 204, ('gums',): 101, ('cider',): 79, ('yogurt cake',): 205, ('mint',): 131, ('butter',): 226, ('french wine',): 169, ('barbecue sauce',): 81, ('carrots',): 115, ('mushroom cream sauce',): 143, ('nonfat milk',): 78, ('eggplant',): 99, ('fromage blanc',): 102, ('melons',): 90}, 2: {('avocado', 'mineral water'): 87, ('frozen smoothie', 'green tea'): 84, ('frozen smoothie', 'mineral water'): 152, ('green tea', 'mineral water'): 233, ('green tea', 'shrimp'): 86, ('honey', 'mineral water'): 113, ('low fat yogurt', 'mineral water'): 180, ('mineral water', 'olive oil'): 207, ('mineral water', 'salmon'): 128, ('mineral water', 'shrimp'): 177, ('burgers', 'eggs'): 216, ('green tea', 'milk'): 132, ('milk', 'mineral water'): 360, ('milk', 'whole wheat rice'): 89, ('mineral water', 'whole wheat rice'): 151, ('frozen vegetables', 'green tea'): 108, ('frozen vegetables', 'spaghetti'): 209, ('green tea', 'spaghetti'): 199, ('burgers', 'mineral water'): 183, ('burgers', 'turkey'): 80, ('cooking oil', 'eggs'): 88, ('cooking oil', 'mineral water'): 151, ('eggs', 'mineral water'): 382, ('eggs', 'turkey'): 146, ('mineral water', 'turkey'): 144, ('chicken', 'chocolate'): 110, ('chocolate', 'cooking oil'): 102, ('chocolate', 'low fat yogurt'): 111, ('chocolate', 'shrimp'): 135, ('chicken', 'eggs'): 108, ('chicken', 'mineral water'): 171, ('chicken', 'spaghetti'): 129, ('eggs', 'spaghetti'): 274, ('eggs', 'tomatoes'): 92, ('mineral water', 'spaghetti'): 448, ('mineral water', 'tomatoes'): 183, ('salmon', 'spaghetti'): 101, ('spaghetti', 'tomatoes'): 157, ('spaghetti', 'turkey'): 124, ('french fries', 'milk'): 178, ('chocolate', 'eggs'): 249, ('eggs', 'shrimp'): 106, ('green tea', 'pancakes'): 123, ('mineral water', 'pancakes'): 253, ('pancakes', 'spaghetti'): 189, ('milk', 'soup'): 114, ('milk', 'spaghetti'): 266, ('soup', 'spaghetti'): 107, ('escalope', 'mineral water'): 128, ('escalope', 'spaghetti'): 105, ('frozen smoothie', 'milk'): 107, ('frozen smoothie', 'spaghetti'): 117, ('ground beef', 'milk'): 165, ('ground beef', 'mineral water'): 307, ('ground beef', 'spaghetti'): 294, ('chicken', 'french fries'): 83, ('chocolate', 'french fries'): 258, ('chocolate', 'mineral water'): 395, ('eggs', 'french fries'): 273, ('french fries', 'mineral water'): 253, ('frozen vegetables', 'mineral water'): 268, ('french fries', 'turkey'): 80, ('chocolate', 'frozen vegetables'): 172, ('mineral water', 'red wine'): 82, ('cake', 'mineral water'): 206, ('honey', 'spaghetti'): 89, ('spaghetti', 'whole wheat rice'): 106, ('french fries', 'green tea'): 214, ('french fries', 'pancakes'): 151, ('cereals', 'mineral water'): 77, ('burgers', 'green tea'): 131, ('chocolate', 'green tea'): 176, ('chocolate', 'spaghetti'): 294, ('escalope', 'french fries'): 123, ('chocolate', 'ground beef'): 173, ('chocolate', 'milk'): 241, ('chocolate', 'olive oil'): 123, ('chocolate', 'soup'): 76, ('chocolate', 'tomatoes'): 105, ('chocolate', 'turkey'): 85, ('frozen vegetables', 'ground beef'): 127, ('frozen vegetables', 'milk'): 177, ('frozen vegetables', 'olive oil'): 85, ('frozen vegetables', 'tomatoes'): 121, ('ground beef', 'olive oil'): 106, ('ground beef', 'tomatoes'): 88, ('milk', 'olive oil'): 128, ('milk', 'tomatoes'): 105, ('milk', 'turkey'): 85, ('mineral water', 'soup'): 173, ('olive oil', 'spaghetti'): 172, ('cookies', 'eggs'): 79, ('chicken', 'green tea'): 89, ('green tea', 'turkey'): 89, ('ground beef', 'herb & pepper'): 120, ('herb & pepper', 'mineral water'): 128, ('grated cheese', 'ground beef'): 85, ('grated cheese', 'mineral water'): 131, ('grated cheese', 'spaghetti'): 124, ('cake', 'eggs'): 143, ('cake', 'french fries'): 134, ('burgers', 'french fries'): 165, ('burgers', 'milk'): 134, ('burgers', 'spaghetti'): 161, ('french fries', 'spaghetti'): 207, ('eggs', 'herb & pepper'): 94, ('chocolate', 'frozen smoothie'): 112, ('french fries', 'low fat yogurt'): 100, ('eggs', 'olive oil'): 90, ('herb & pepper', 'spaghetti'): 122, ('shrimp', 'spaghetti'): 159, ('cookies', 'french fries'): 100, ('cookies', 'green tea'): 90, ('eggs', 'green tea'): 191, ('green tea', 'ground beef'): 111, ('burgers', 'chocolate'): 128, ('burgers', 'ground beef'): 90, ('eggs', 'ground beef'): 150, ('eggs', 'milk'): 231, ('milk', 'shrimp'): 132, ('champagne', 'chocolate'): 87, ('chocolate', 'escalope'): 132, ('fresh bread', 'mineral water'): 100, ('eggs', 'low fat yogurt'): 126, ('eggs', 'pancakes'): 163, ('french fries', 'grated cheese'): 78, ('burgers', 'frozen vegetables'): 79, ('burgers', 'pancakes'): 79, ('chocolate', 'pancakes'): 149, ('eggs', 'frozen vegetables'): 163, ('french fries', 'frozen vegetables'): 143, ('frozen vegetables', 'low fat yogurt'): 76, ('frozen vegetables', 'pancakes'): 101, ('frozen vegetables', 'shrimp'): 125, ('low fat yogurt', 'milk'): 99, ('low fat yogurt', 'spaghetti'): 114, ('milk', 'pancakes'): 124, ('pancakes', 'shrimp'): 79, ('cake', 'spaghetti'): 136, ('french fries', 'tomatoes'): 90, ('eggs', 'frozen smoothie'): 83, ('cake', 'chocolate'): 102, ('cake', 'milk'): 100, ('cooking oil', 'milk'): 86, ('cooking oil', 'spaghetti'): 119, ('red wine', 'spaghetti'): 77, ('ground beef', 'shrimp'): 86, ('chocolate', 'whole wheat rice'): 90, ('eggs', 'whole wheat rice'): 82, ('olive oil', 'pancakes'): 81, ('french fries', 'frozen smoothie'): 109, ('shrimp', 'tomatoes'): 84, ('ground beef', 'pancakes'): 109, ('eggs', 'escalope'): 83, ('chocolate', 'grated cheese'): 82, ('burgers', 'cake'): 86, ('cake', 'green tea'): 106, ('chocolate', 'salmon'): 80, ('chocolate', 'cookies'): 78, ('french fries', 'ground beef'): 104, ('french fries', 'whole wheat rice'): 79, ('green tea', 'tomatoes'): 92, ('cake', 'frozen vegetables'): 77, ('cake', 'pancakes'): 89, ('chicken', 'milk'): 111}, 3: {('eggs', 'mineral water', 'spaghetti'): 107, ('mineral water', 'pancakes', 'spaghetti'): 86, ('ground beef', 'milk', 'mineral water'): 83, ('ground beef', 'mineral water', 'spaghetti'): 128, ('milk', 'mineral water', 'spaghetti'): 118, ('chocolate', 'eggs', 'mineral water'): 101, ('frozen vegetables', 'mineral water', 'spaghetti'): 90, ('chocolate', 'ground beef', 'mineral water'): 82, ('chocolate', 'milk', 'mineral water'): 105, ('chocolate', 'milk', 'spaghetti'): 82, ('chocolate', 'mineral water', 'spaghetti'): 119, ('frozen vegetables', 'milk', 'mineral water'): 83, ('mineral water', 'olive oil', 'spaghetti'): 77, ('chocolate', 'eggs', 'spaghetti'): 79, ('eggs', 'ground beef', 'mineral water'): 76, ('eggs', 'milk', 'mineral water'): 98, ('french fries', 'mineral water', 'spaghetti'): 76}}\n",
            "关联规则： [{ground beef, milk} -> {mineral water}, {eggs, ground beef} -> {mineral water}]\n"
          ],
          "name": "stdout"
        }
      ]
    },
    {
      "cell_type": "code",
      "metadata": {
        "id": "W-Bg6zfYtbwU",
        "colab_type": "code",
        "colab": {}
      },
      "source": [
        ""
      ],
      "execution_count": null,
      "outputs": []
    },
    {
      "cell_type": "code",
      "metadata": {
        "id": "joqipv1_thVQ",
        "colab_type": "code",
        "colab": {
          "base_uri": "https://localhost:8080/",
          "height": 255
        },
        "outputId": "502db3d8-22b4-4d85-b1d3-43834afd631f"
      },
      "source": [
        "from mlxtend.preprocessing import TransactionEncoder\n",
        "from mlxtend.frequent_patterns import apriori\n",
        "from mlxtend.frequent_patterns import association_rules\n",
        "data = pd.read_csv('./market_Aprori_data/Market_Basket_Optimisation.csv', header=None)\n",
        "data = data.fillna(0)\n",
        "# te = TransactionEncoder()\n",
        "# te_ary = te.fit(data).transform(data)\n",
        "# df = pd.DataFrame(te_ary, columns=te.columns_)\n",
        "data1 = pd.get_dummies(data)\n",
        "df = data.drop([i for i in range(20)], axis=1).join(data1)\n",
        "\n",
        "frequent_itemsets = apriori(df, min_support=0.5, use_colnames=True)\n",
        "\n",
        "print(\"频繁项集：\", frequent_itemsets)\n",
        "\n",
        "# end = time.time()\n",
        "# print(\"用时：\", end - start)\n",
        "\n"
      ],
      "execution_count": null,
      "outputs": [
        {
          "output_type": "stream",
          "text": [
            "频繁项集：          support                                           itemsets\n",
            "0       0.554059                                              (3_0)\n",
            "1       0.662845                                              (4_0)\n",
            "2       0.751500                                              (5_0)\n",
            "3       0.817491                                              (6_0)\n",
            "4       0.869217                                              (7_0)\n",
            "...          ...                                                ...\n",
            "131066  0.554059  (9_0, 16_0, 5_0, 4_0, 8_0, 15_0, 14_0, 3_0, 12...\n",
            "131067  0.554059  (9_0, 16_0, 4_0, 8_0, 15_0, 14_0, 3_0, 12_0, 6...\n",
            "131068  0.554059  (9_0, 16_0, 5_0, 8_0, 14_0, 15_0, 3_0, 12_0, 6...\n",
            "131069  0.662845  (9_0, 16_0, 5_0, 4_0, 8_0, 15_0, 14_0, 12_0, 6...\n",
            "131070  0.554059  (9_0, 16_0, 5_0, 4_0, 8_0, 15_0, 14_0, 3_0, 12...\n",
            "\n",
            "[131071 rows x 2 columns]\n"
          ],
          "name": "stdout"
        }
      ]
    },
    {
      "cell_type": "code",
      "metadata": {
        "id": "XOD2gLOLwaOu",
        "colab_type": "code",
        "colab": {}
      },
      "source": [
        "rules = association_rules(frequent_itemsets, metric=\"lift\", min_threshold=0.5)\n",
        "print(\"关联规则：\", rules[(rules['lift'] >= 1) & (rules['confidence'] >= 0.7)])\n",
        "print(rules['confidence'])"
      ],
      "execution_count": null,
      "outputs": []
    },
    {
      "cell_type": "code",
      "metadata": {
        "id": "DMr2nB8ex39A",
        "colab_type": "code",
        "colab": {}
      },
      "source": [
        "ll = []\n",
        "ss = set()\n",
        "for i in range(len(data)):\n",
        "    for j in range(data.shape[1]):\n",
        "        ss.add(data.iloc[i][j])\n",
        "ss"
      ],
      "execution_count": null,
      "outputs": []
    }
  ]
}